{
 "cells": [
  {
   "cell_type": "markdown",
   "metadata": {},
   "source": [
    "# Applying a pretrained pipeline\n",
    "\n",
    "In this tutorial, you will learn how to apply `pyannote.audio` pipelines on an audio file.\n",
    "\n",
    "A pipeline takes an audio file as input and returns a labeled temporal segmentation of the audio file. \n",
    "\n",
    "More precisely, it usually applies a pretrained model (= neural network) on the audio file, post-processes the output of the model, and returns its output as a [`pyannote.core.Annotation`](http://pyannote.github.io/pyannote-core/structure.html#annotation) instance. It should become clearer as you keep reading..."
   ]
  },
  {
   "cell_type": "markdown",
   "metadata": {},
   "source": [
    "## Loading pipeline from 🤗 hub\n",
    "\n",
    "A bunch of pretrained pipelines are available on [🤗 Huggingface model hub](https://hf.co/models?other=pyannote-audio-pipeline) and can be listed by looking for the [`pyannote-audio-pipeline`](https://hf.co/models?other=pyannote-audio-pipeline) tag."
   ]
  },
  {
   "cell_type": "code",
   "execution_count": 1,
   "metadata": {},
   "outputs": [
    {
     "data": {
      "text/plain": [
       "['pyannote/overlapped-speech-detection',\n",
       " 'pyannote/speaker-diarization',\n",
       " 'pyannote/speaker-segmentation',\n",
       " 'pyannote/voice-activity-detection',\n",
       " 'pyannote/speaker-diarization-3.0']"
      ]
     },
     "execution_count": 1,
     "metadata": {},
     "output_type": "execute_result"
    }
   ],
   "source": [
    "from huggingface_hub import HfApi\n",
    "available_pipelines = [p.modelId for p in HfApi().list_models(filter=\"pyannote-audio-pipeline\")]\n",
    "list(filter(lambda p: p.startswith(\"pyannote/\"), available_pipelines))"
   ]
  },
  {
   "cell_type": "markdown",
   "metadata": {},
   "source": [
    "Official [pyannote.audio](https://github.com/pyannote/pyannote-audio) pipelines (i.e. those under the [`pyannote` organization](https://hf.co/pyannote) umbrella) are open-source, but gated. It means that you have to first accept users conditions on their respective Huggingface page to access the pretrained weights and hyper-parameters. Despite this initial process, those pipelines can perfectly be downloaded for later offline use: keep reading this tutorial until the end to learn how to do that.\n",
    "\n",
    "For instance, to load the speaker diarization pipeline used in this tutorial, you have to visit [hf.co/pyannote/speaker-diarization](https://hf.co/pyannote/speaker-diarization), accept the terms, visit [hf.co/pyannote/segmentation](https://hf.co/pyannote/segmentation) (used internally by the speaker diarization pipeline), accept the terms, and log in using `notebook_login` below:"
   ]
  },
  {
   "cell_type": "code",
   "execution_count": 3,
   "metadata": {},
   "outputs": [
    {
     "data": {
      "application/vnd.jupyter.widget-view+json": {
       "model_id": "aaae0bb9561a45ad9ec4463b481fea1b",
       "version_major": 2,
       "version_minor": 0
      },
      "text/plain": [
       "VBox(children=(HTML(value='<center> <img\\nsrc=https://huggingface.co/front/assets/huggingface_logo-noborder.sv…"
      ]
     },
     "metadata": {},
     "output_type": "display_data"
    }
   ],
   "source": [
    "from huggingface_hub import notebook_login\n",
    "notebook_login()"
   ]
  },
  {
   "cell_type": "markdown",
   "metadata": {},
   "source": [
    "Once authenticated, you can load the pipeline (and the internal models)..."
   ]
  },
  {
   "cell_type": "code",
   "execution_count": 4,
   "metadata": {},
   "outputs": [
    {
     "name": "stderr",
     "output_type": "stream",
     "text": [
      "/Users/jingming/miniforge3/envs/voice-biomarker-py311/lib/python3.11/site-packages/pyannote/audio/core/io.py:43: UserWarning: torchaudio._backend.set_audio_backend has been deprecated. With dispatcher enabled, this function is no-op. You can remove the function call.\n",
      "  torchaudio.set_audio_backend(\"soundfile\")\n",
      "/Users/jingming/miniforge3/envs/voice-biomarker-py311/lib/python3.11/site-packages/torch_audiomentations/utils/io.py:27: UserWarning: torchaudio._backend.set_audio_backend has been deprecated. With dispatcher enabled, this function is no-op. You can remove the function call.\n",
      "  torchaudio.set_audio_backend(\"soundfile\")\n",
      "torchvision is not available - cannot save figures\n",
      "Lightning automatically upgraded your loaded checkpoint from v1.5.4 to v2.1.0. To apply the upgrade to your files permanently, run `python -m pytorch_lightning.utilities.upgrade_checkpoint ../../../.cache/torch/pyannote/models--pyannote--segmentation/snapshots/c4c8ceafcbb3a7a280c2d357aee9fbc9b0be7f9b/pytorch_model.bin`\n"
     ]
    },
    {
     "name": "stdout",
     "output_type": "stream",
     "text": [
      "Model was trained with pyannote.audio 0.0.1, yours is 3.0.0. Bad things might happen unless you revert pyannote.audio to 0.x.\n",
      "Model was trained with torch 1.10.0+cu102, yours is 2.1.0. Bad things might happen unless you revert torch to 1.x.\n"
     ]
    }
   ],
   "source": [
    "from pyannote.audio import Pipeline\n",
    "pipeline = Pipeline.from_pretrained(\"pyannote/speaker-diarization\", use_auth_token=True)"
   ]
  },
  {
   "cell_type": "markdown",
   "metadata": {},
   "source": [
    "## Processing a file from disk"
   ]
  },
  {
   "cell_type": "markdown",
   "metadata": {},
   "source": [
    "... and apply it to an audio file.  \n",
    "\n",
    "The pipeline will automatically use GPUs when available. \n",
    "On CPU it might take a long while (up to 10x RT)."
   ]
  },
  {
   "cell_type": "code",
   "execution_count": 5,
   "metadata": {},
   "outputs": [],
   "source": [
    "ROOT_DIR = \"/Users/jingming/DataSets/淄博妇幼/voice-sample\"\n",
    "AUDIO_FILE = f\"{ROOT_DIR}/574.wav\"\n",
    "dia = pipeline(AUDIO_FILE)"
   ]
  },
  {
   "cell_type": "code",
   "execution_count": 19,
   "metadata": {},
   "outputs": [
    {
     "name": "stdout",
     "output_type": "stream",
     "text": [
      "start=0.0s stop=5.0s speaker_SPEAKER_02\n",
      "Under the path: .\n",
      "SPEAKER_02.wav is not exist\n",
      "start=2.0s stop=4.2s speaker_SPEAKER_00\n",
      "Under the path: .\n",
      "SPEAKER_00.wav is not exist\n",
      "start=8.7s stop=13.8s speaker_SPEAKER_02\n",
      "Under the path: .\n",
      "SPEAKER_02.wav is exist\n",
      "start=14.4s stop=14.5s speaker_SPEAKER_02\n",
      "Under the path: .\n",
      "SPEAKER_02.wav is exist\n",
      "start=14.5s stop=14.6s speaker_SPEAKER_00\n",
      "Under the path: .\n",
      "SPEAKER_00.wav is exist\n",
      "start=17.6s stop=17.7s speaker_SPEAKER_00\n",
      "Under the path: .\n",
      "SPEAKER_00.wav is exist\n",
      "start=17.7s stop=22.7s speaker_SPEAKER_02\n",
      "Under the path: .\n",
      "SPEAKER_02.wav is exist\n",
      "start=18.7s stop=19.5s speaker_SPEAKER_00\n",
      "Under the path: .\n",
      "SPEAKER_00.wav is exist\n",
      "start=22.7s stop=24.0s speaker_SPEAKER_00\n",
      "Under the path: .\n",
      "SPEAKER_00.wav is exist\n",
      "start=24.7s stop=25.1s speaker_SPEAKER_02\n",
      "Under the path: .\n",
      "SPEAKER_02.wav is exist\n",
      "start=26.9s stop=41.9s speaker_SPEAKER_02\n",
      "Under the path: .\n",
      "SPEAKER_02.wav is exist\n",
      "start=42.9s stop=47.3s speaker_SPEAKER_00\n",
      "Under the path: .\n",
      "SPEAKER_00.wav is exist\n",
      "start=49.5s stop=51.0s speaker_SPEAKER_00\n",
      "Under the path: .\n",
      "SPEAKER_00.wav is exist\n",
      "start=51.6s stop=56.0s speaker_SPEAKER_00\n",
      "Under the path: .\n",
      "SPEAKER_00.wav is exist\n",
      "start=56.0s stop=59.9s speaker_SPEAKER_01\n",
      "Under the path: .\n",
      "SPEAKER_01.wav is not exist\n",
      "start=61.5s stop=66.3s speaker_SPEAKER_02\n",
      "Under the path: .\n",
      "SPEAKER_02.wav is exist\n",
      "start=66.3s stop=69.7s speaker_SPEAKER_01\n",
      "Under the path: .\n",
      "SPEAKER_01.wav is exist\n",
      "start=70.6s stop=76.1s speaker_SPEAKER_02\n",
      "Under the path: .\n",
      "SPEAKER_02.wav is exist\n",
      "start=73.8s stop=74.0s speaker_SPEAKER_01\n",
      "Under the path: .\n",
      "SPEAKER_01.wav is exist\n",
      "start=74.7s stop=75.0s speaker_SPEAKER_01\n",
      "Under the path: .\n",
      "SPEAKER_01.wav is exist\n",
      "start=77.5s stop=79.8s speaker_SPEAKER_02\n",
      "Under the path: .\n",
      "SPEAKER_02.wav is exist\n",
      "start=80.9s stop=89.8s speaker_SPEAKER_01\n",
      "Under the path: .\n",
      "SPEAKER_01.wav is exist\n",
      "start=90.5s stop=95.0s speaker_SPEAKER_02\n",
      "Under the path: .\n",
      "SPEAKER_02.wav is exist\n",
      "start=94.1s stop=94.3s speaker_SPEAKER_01\n",
      "Under the path: .\n",
      "SPEAKER_01.wav is exist\n",
      "start=96.1s stop=99.8s speaker_SPEAKER_02\n",
      "Under the path: .\n",
      "SPEAKER_02.wav is exist\n",
      "start=109.0s stop=112.6s speaker_SPEAKER_02\n",
      "Under the path: .\n",
      "SPEAKER_02.wav is exist\n",
      "start=114.0s stop=130.3s speaker_SPEAKER_01\n",
      "Under the path: .\n",
      "SPEAKER_01.wav is exist\n",
      "start=132.2s stop=136.4s speaker_SPEAKER_02\n",
      "Under the path: .\n",
      "SPEAKER_02.wav is exist\n",
      "start=136.7s stop=141.5s speaker_SPEAKER_01\n",
      "Under the path: .\n",
      "SPEAKER_01.wav is exist\n",
      "start=142.0s stop=143.3s speaker_SPEAKER_02\n",
      "Under the path: .\n",
      "SPEAKER_02.wav is exist\n",
      "start=144.5s stop=145.2s speaker_SPEAKER_02\n",
      "Under the path: .\n",
      "SPEAKER_02.wav is exist\n",
      "start=146.0s stop=147.4s speaker_SPEAKER_02\n",
      "Under the path: .\n",
      "SPEAKER_02.wav is exist\n",
      "start=147.5s stop=148.8s speaker_SPEAKER_01\n",
      "Under the path: .\n",
      "SPEAKER_01.wav is exist\n",
      "start=151.1s stop=153.0s speaker_SPEAKER_01\n",
      "Under the path: .\n",
      "SPEAKER_01.wav is exist\n",
      "start=156.5s stop=166.2s speaker_SPEAKER_02\n",
      "Under the path: .\n",
      "SPEAKER_02.wav is exist\n",
      "start=165.3s stop=167.9s speaker_SPEAKER_01\n",
      "Under the path: .\n",
      "SPEAKER_01.wav is exist\n",
      "start=168.8s stop=170.8s speaker_SPEAKER_00\n",
      "Under the path: .\n",
      "SPEAKER_00.wav is exist\n",
      "start=169.0s stop=169.0s speaker_SPEAKER_01\n",
      "Under the path: .\n",
      "SPEAKER_01.wav is exist\n",
      "start=172.2s stop=172.4s speaker_SPEAKER_00\n",
      "Under the path: .\n",
      "SPEAKER_00.wav is exist\n",
      "start=173.8s stop=181.4s speaker_SPEAKER_00\n",
      "Under the path: .\n",
      "SPEAKER_00.wav is exist\n",
      "start=180.5s stop=180.6s speaker_SPEAKER_02\n",
      "Under the path: .\n",
      "SPEAKER_02.wav is exist\n",
      "start=183.9s stop=187.5s speaker_SPEAKER_02\n",
      "Under the path: .\n",
      "SPEAKER_02.wav is exist\n",
      "start=186.5s stop=188.5s speaker_SPEAKER_00\n",
      "Under the path: .\n",
      "SPEAKER_00.wav is exist\n",
      "start=188.5s stop=208.6s speaker_SPEAKER_02\n",
      "Under the path: .\n",
      "SPEAKER_02.wav is exist\n",
      "start=199.0s stop=201.5s speaker_SPEAKER_00\n",
      "Under the path: .\n",
      "SPEAKER_00.wav is exist\n",
      "start=208.6s stop=218.0s speaker_SPEAKER_00\n",
      "Under the path: .\n",
      "SPEAKER_00.wav is exist\n",
      "start=218.0s stop=220.5s speaker_SPEAKER_02\n",
      "Under the path: .\n",
      "SPEAKER_02.wav is exist\n",
      "start=218.8s stop=218.9s speaker_SPEAKER_00\n",
      "Under the path: .\n",
      "SPEAKER_00.wav is exist\n",
      "start=222.2s stop=222.3s speaker_SPEAKER_02\n",
      "Under the path: .\n",
      "SPEAKER_02.wav is exist\n",
      "start=222.3s stop=231.3s speaker_SPEAKER_00\n",
      "Under the path: .\n",
      "SPEAKER_00.wav is exist\n",
      "start=234.0s stop=240.1s speaker_SPEAKER_00\n",
      "Under the path: .\n",
      "SPEAKER_00.wav is exist\n",
      "start=241.7s stop=244.7s speaker_SPEAKER_00\n",
      "Under the path: .\n",
      "SPEAKER_00.wav is exist\n",
      "start=245.3s stop=264.4s speaker_SPEAKER_00\n",
      "Under the path: .\n",
      "SPEAKER_00.wav is exist\n",
      "start=265.5s stop=277.8s speaker_SPEAKER_00\n",
      "Under the path: .\n",
      "SPEAKER_00.wav is exist\n",
      "start=277.3s stop=288.4s speaker_SPEAKER_02\n",
      "Under the path: .\n",
      "SPEAKER_02.wav is exist\n",
      "start=279.8s stop=280.6s speaker_SPEAKER_00\n",
      "Under the path: .\n",
      "SPEAKER_00.wav is exist\n",
      "start=281.4s stop=281.4s speaker_SPEAKER_00\n",
      "Under the path: .\n",
      "SPEAKER_00.wav is exist\n",
      "start=282.6s stop=284.0s speaker_SPEAKER_00\n",
      "Under the path: .\n",
      "SPEAKER_00.wav is exist\n",
      "start=288.2s stop=288.4s speaker_SPEAKER_00\n",
      "Under the path: .\n",
      "SPEAKER_00.wav is exist\n",
      "start=291.1s stop=296.3s speaker_SPEAKER_00\n",
      "Under the path: .\n",
      "SPEAKER_00.wav is exist\n",
      "start=297.3s stop=299.8s speaker_SPEAKER_02\n",
      "Under the path: .\n",
      "SPEAKER_02.wav is exist\n",
      "start=299.8s stop=301.6s speaker_SPEAKER_00\n",
      "Under the path: .\n",
      "SPEAKER_00.wav is exist\n",
      "start=313.6s stop=318.5s speaker_SPEAKER_02\n",
      "Under the path: .\n",
      "SPEAKER_02.wav is exist\n",
      "start=318.5s stop=325.3s speaker_SPEAKER_01\n",
      "Under the path: .\n",
      "SPEAKER_01.wav is exist\n",
      "start=324.1s stop=328.5s speaker_SPEAKER_02\n",
      "Under the path: .\n",
      "SPEAKER_02.wav is exist\n",
      "start=328.9s stop=329.7s speaker_SPEAKER_00\n",
      "Under the path: .\n",
      "SPEAKER_00.wav is exist\n",
      "start=330.5s stop=336.4s speaker_SPEAKER_01\n",
      "Under the path: .\n",
      "SPEAKER_01.wav is exist\n",
      "start=336.0s stop=339.1s speaker_SPEAKER_02\n",
      "Under the path: .\n",
      "SPEAKER_02.wav is exist\n",
      "start=340.2s stop=343.9s speaker_SPEAKER_02\n",
      "Under the path: .\n",
      "SPEAKER_02.wav is exist\n",
      "start=340.3s stop=342.2s speaker_SPEAKER_00\n",
      "Under the path: .\n",
      "SPEAKER_00.wav is exist\n",
      "start=353.5s stop=357.0s speaker_SPEAKER_02\n",
      "Under the path: .\n",
      "SPEAKER_02.wav is exist\n",
      "start=358.0s stop=360.1s speaker_SPEAKER_02\n",
      "Under the path: .\n",
      "SPEAKER_02.wav is exist\n",
      "start=358.4s stop=358.6s speaker_SPEAKER_01\n",
      "Under the path: .\n",
      "SPEAKER_01.wav is exist\n",
      "start=359.9s stop=362.0s speaker_SPEAKER_01\n",
      "Under the path: .\n",
      "SPEAKER_01.wav is exist\n",
      "start=361.5s stop=362.2s speaker_SPEAKER_02\n",
      "Under the path: .\n",
      "SPEAKER_02.wav is exist\n",
      "start=362.1s stop=362.2s speaker_SPEAKER_00\n",
      "Under the path: .\n",
      "SPEAKER_00.wav is exist\n",
      "start=367.7s stop=369.3s speaker_SPEAKER_02\n",
      "Under the path: .\n",
      "SPEAKER_02.wav is exist\n",
      "start=369.9s stop=370.1s speaker_SPEAKER_00\n",
      "Under the path: .\n",
      "SPEAKER_00.wav is exist\n",
      "start=405.7s stop=407.5s speaker_SPEAKER_00\n",
      "Under the path: .\n",
      "SPEAKER_00.wav is exist\n",
      "start=407.5s stop=411.9s speaker_SPEAKER_01\n",
      "Under the path: .\n",
      "SPEAKER_01.wav is exist\n",
      "start=414.9s stop=417.9s speaker_SPEAKER_00\n",
      "Under the path: .\n",
      "SPEAKER_00.wav is exist\n",
      "start=418.6s stop=441.0s speaker_SPEAKER_01\n",
      "Under the path: .\n",
      "SPEAKER_01.wav is exist\n",
      "start=441.0s stop=441.2s speaker_SPEAKER_00\n",
      "Under the path: .\n",
      "SPEAKER_00.wav is exist\n",
      "start=441.9s stop=444.7s speaker_SPEAKER_00\n",
      "Under the path: .\n",
      "SPEAKER_00.wav is exist\n",
      "start=445.3s stop=446.0s speaker_SPEAKER_00\n",
      "Under the path: .\n",
      "SPEAKER_00.wav is exist\n",
      "start=446.0s stop=448.6s speaker_SPEAKER_02\n",
      "Under the path: .\n",
      "SPEAKER_02.wav is exist\n"
     ]
    }
   ],
   "source": [
    "from pydub import AudioSegment\n",
    "import os\n",
    "\n",
    "def isexist(name, path=None):\n",
    "    '''\n",
    "    :param name: 需要检测的文件或文件夹名\n",
    "    :param path: 需要检测的文件或文件夹所在的路径，当path=None时默认使用当前路径检测\n",
    "    :return: True/False 当检测的文件或文件夹所在的路径下有目标文件或文件夹时返回Ture,\n",
    "            当检测的文件或文件夹所在的路径下没有有目标文件或文件夹时返回False\n",
    "    '''\n",
    "    if path is None:\n",
    "        path = os.getcwd()\n",
    "    if os.path.exists(path + '/' + name):\n",
    "        print(\"Under the path: \" + path + '\\n' + name + \" is exist\")\n",
    "        return True\n",
    "    else:\n",
    "        if (os.path.exists(path)):\n",
    "            print(\"Under the path: \" + path + '\\n' + name + \" is not exist\")\n",
    "        else:\n",
    "            print(\"This path could not be found: \" + path + '\\n')\n",
    "        return False\n",
    "\n",
    "for turn, _, speaker in dia.itertracks(yield_label=True):\n",
    "    print(f\"start={turn.start:.1f}s stop={turn.end:.1f}s speaker_{speaker}\")\n",
    "    newAudio = AudioSegment.from_wav(AUDIO_FILE)\n",
    "    start = turn.start\n",
    "    end = turn.end\n",
    "    newAudio = newAudio[int(start * 1000):int(end * 1000)]\n",
    "    if not isexist(name=speaker + '.wav', path='.'):\n",
    "        newAudio.export(speaker + '.wav', format=\"wav\")\n",
    "    else:\n",
    "        newAudio.export('temp.wav', format=\"wav\")\n",
    "        combined_sounds = AudioSegment.from_wav(speaker + \".wav\")\n",
    "        temp = AudioSegment.from_wav(\"temp.wav\")\n",
    "        combined_sounds = combined_sounds + temp\n",
    "        # os.remove(speaker + '.wav')\n",
    "        combined_sounds.export(speaker + '.wav', format=\"wav\")\n",
    "        os.remove('temp.wav')"
   ]
  },
  {
   "cell_type": "markdown",
   "metadata": {},
   "source": [
    "## Visualizing the output\n",
    "\n",
    "Most pipelines return a [`pyannote.core.Annotation`](http://pyannote.github.io/pyannote-core/structure.html#annotation) instance..."
   ]
  },
  {
   "cell_type": "code",
   "execution_count": 6,
   "metadata": {},
   "outputs": [],
   "source": [
    "from pyannote.core import Annotation\n",
    "assert isinstance(dia, Annotation)"
   ]
  },
  {
   "cell_type": "markdown",
   "metadata": {},
   "source": [
    "... whose [API](https://pyannote.github.io/pyannote-core/structure.html#annotation) you can use to print the result:"
   ]
  },
  {
   "cell_type": "code",
   "execution_count": 7,
   "metadata": {},
   "outputs": [
    {
     "name": "stdout",
     "output_type": "stream",
     "text": [
      " 0.0  5.0 SPEAKER_02\n",
      " 2.0  4.2 SPEAKER_00\n",
      " 8.7 13.8 SPEAKER_02\n",
      "14.4 14.5 SPEAKER_02\n",
      "14.5 14.6 SPEAKER_00\n",
      "17.6 17.7 SPEAKER_00\n",
      "17.7 22.7 SPEAKER_02\n",
      "18.7 19.5 SPEAKER_00\n",
      "22.7 24.0 SPEAKER_00\n",
      "24.7 25.1 SPEAKER_02\n",
      "26.9 41.9 SPEAKER_02\n",
      "42.9 47.3 SPEAKER_00\n",
      "49.5 51.0 SPEAKER_00\n",
      "51.6 56.0 SPEAKER_00\n",
      "56.0 59.9 SPEAKER_01\n",
      "61.5 66.3 SPEAKER_02\n",
      "66.3 69.7 SPEAKER_01\n",
      "70.6 76.1 SPEAKER_02\n",
      "73.8 74.0 SPEAKER_01\n",
      "74.7 75.0 SPEAKER_01\n",
      "77.5 79.8 SPEAKER_02\n",
      "80.9 89.8 SPEAKER_01\n",
      "90.5 95.0 SPEAKER_02\n",
      "94.1 94.3 SPEAKER_01\n",
      "96.1 99.8 SPEAKER_02\n",
      "109.0 112.6 SPEAKER_02\n",
      "114.0 130.3 SPEAKER_01\n",
      "132.2 136.4 SPEAKER_02\n",
      "136.7 141.5 SPEAKER_01\n",
      "142.0 143.3 SPEAKER_02\n",
      "144.5 145.2 SPEAKER_02\n",
      "146.0 147.4 SPEAKER_02\n",
      "147.5 148.8 SPEAKER_01\n",
      "151.1 153.0 SPEAKER_01\n",
      "156.5 166.2 SPEAKER_02\n",
      "165.3 167.9 SPEAKER_01\n",
      "168.8 170.8 SPEAKER_00\n",
      "169.0 169.0 SPEAKER_01\n",
      "172.2 172.4 SPEAKER_00\n",
      "173.8 181.4 SPEAKER_00\n",
      "180.5 180.6 SPEAKER_02\n",
      "183.9 187.5 SPEAKER_02\n",
      "186.5 188.5 SPEAKER_00\n",
      "188.5 208.6 SPEAKER_02\n",
      "199.0 201.5 SPEAKER_00\n",
      "208.6 218.0 SPEAKER_00\n",
      "218.0 220.5 SPEAKER_02\n",
      "218.8 218.9 SPEAKER_00\n",
      "222.2 222.3 SPEAKER_02\n",
      "222.3 231.3 SPEAKER_00\n",
      "234.0 240.1 SPEAKER_00\n",
      "241.7 244.7 SPEAKER_00\n",
      "245.3 264.4 SPEAKER_00\n",
      "265.5 277.8 SPEAKER_00\n",
      "277.3 288.4 SPEAKER_02\n",
      "279.8 280.6 SPEAKER_00\n",
      "281.4 281.4 SPEAKER_00\n",
      "282.6 284.0 SPEAKER_00\n",
      "288.2 288.4 SPEAKER_00\n",
      "291.1 296.3 SPEAKER_00\n",
      "297.3 299.8 SPEAKER_02\n",
      "299.8 301.6 SPEAKER_00\n",
      "313.6 318.5 SPEAKER_02\n",
      "318.5 325.3 SPEAKER_01\n",
      "324.1 328.5 SPEAKER_02\n",
      "328.9 329.7 SPEAKER_00\n",
      "330.5 336.4 SPEAKER_01\n",
      "336.0 339.1 SPEAKER_02\n",
      "340.2 343.9 SPEAKER_02\n",
      "340.3 342.2 SPEAKER_00\n",
      "353.5 357.0 SPEAKER_02\n",
      "358.0 360.1 SPEAKER_02\n",
      "358.4 358.6 SPEAKER_01\n",
      "359.9 362.0 SPEAKER_01\n",
      "361.5 362.2 SPEAKER_02\n",
      "362.1 362.2 SPEAKER_00\n",
      "367.7 369.3 SPEAKER_02\n",
      "369.9 370.1 SPEAKER_00\n",
      "405.7 407.5 SPEAKER_00\n",
      "407.5 411.9 SPEAKER_01\n",
      "414.9 417.9 SPEAKER_00\n",
      "418.6 441.0 SPEAKER_01\n",
      "441.0 441.2 SPEAKER_00\n",
      "441.9 444.7 SPEAKER_00\n",
      "445.3 446.0 SPEAKER_00\n",
      "446.0 448.6 SPEAKER_02\n"
     ]
    }
   ],
   "source": [
    "for speech_turn, track, speaker in dia.itertracks(yield_label=True):\n",
    "    print(f\"{speech_turn.start:4.1f} {speech_turn.end:4.1f} {speaker}\")"
   ]
  },
  {
   "cell_type": "markdown",
   "metadata": {},
   "source": [
    "If you happen to be running this example in a _Jupyter notebook_, `dia` can be [visualized directly](http://pyannote.github.io/pyannote-core/visualization.html):"
   ]
  },
  {
   "cell_type": "code",
   "execution_count": 8,
   "metadata": {},
   "outputs": [
    {
     "data": {
      "image/png": "[encoded data removed]",
      "text/plain": [
       "<pyannote.core.annotation.Annotation at 0x29d3b9c10>"
      ]
     },
     "execution_count": 8,
     "metadata": {},
     "output_type": "execute_result"
    }
   ],
   "source": [
    "# we visualize [0, 30] time range\n",
    "from pyannote.core import notebook, Segment\n",
    "notebook.crop = Segment(0, 30)\n",
    "dia"
   ]
  },
  {
   "cell_type": "markdown",
   "metadata": {},
   "source": [
    "When available, the reference annotation can be visualized too, for comparison:"
   ]
  },
  {
   "cell_type": "code",
   "execution_count": 10,
   "metadata": {},
   "outputs": [
    {
     "data": {
      "image/png": "[encoded data removed]",
      "text/plain": [
       "<pyannote.core.annotation.Annotation at 0x288b56df0>"
      ]
     },
     "execution_count": 10,
     "metadata": {},
     "output_type": "execute_result"
    }
   ],
   "source": [
    "from pyannote.database.util import load_rttm\n",
    "REFERENCE = f\"{ROOT_DIR}/tutorials/assets/sample.rttm\"\n",
    "reference = load_rttm(REFERENCE)[\"sample\"]\n",
    "\n",
    "# map hypothesized and reference speakers for visualization purposes\n",
    "pipeline.optimal_mapping(dia, reference)"
   ]
  },
  {
   "cell_type": "markdown",
   "metadata": {},
   "source": [
    "## Processing a file from memory\n",
    "\n",
    "In case the audio file is not stored on disk, pipelines can also process audio provided as a `{\"waveform\": ..., \"sample_rate\": ...}` dictionary. "
   ]
  },
  {
   "cell_type": "code",
   "execution_count": 11,
   "metadata": {},
   "outputs": [
    {
     "name": "stdout",
     "output_type": "stream",
     "text": [
      "type(waveform)=<class 'torch.Tensor'>\n",
      "waveform.shape=torch.Size([1, 480000])\n",
      "waveform.dtype=torch.float32\n"
     ]
    }
   ],
   "source": [
    "import torchaudio\n",
    "waveform, sample_rate = torchaudio.load(AUDIO_FILE)\n",
    "\n",
    "print(f\"{type(waveform)=}\")\n",
    "print(f\"{waveform.shape=}\")\n",
    "print(f\"{waveform.dtype=}\")\n",
    "\n",
    "audio_in_memory = {\"waveform\": waveform, \"sample_rate\": sample_rate}"
   ]
  },
  {
   "cell_type": "code",
   "execution_count": 12,
   "metadata": {},
   "outputs": [
    {
     "data": {
      "image/png": "[encoded data removed]",
      "text/plain": [
       "<pyannote.core.annotation.Annotation at 0x288d4db80>"
      ]
     },
     "execution_count": 12,
     "metadata": {},
     "output_type": "execute_result"
    }
   ],
   "source": [
    "vad = Pipeline.from_pretrained(\"pyannote/voice-activity-detection\", use_auth_token=True)\n",
    "vad(audio_in_memory)"
   ]
  },
  {
   "cell_type": "markdown",
   "metadata": {},
   "source": [
    "## Offline use\n",
    "\n",
    "Gating models and pipelines allows [me](https://herve.niderb.fr) to know a bit more about `pyannote.audio` user base and eventually help me write grant proposals to make `pyannote.audio` even better. Please fill this form as precisely as possible. \n",
    "\n",
    "For instance, before gating `pyannote/speaker-diarization`, I had no idea that so many people were relying on it in production. Hint: sponsors are more than welcome! maintaining open source libraries is time consuming.\n",
    "\n",
    "That being said: this whole authentication process does not prevent you from using official `pyannote.audio` models and pipelines offline (i.e. without going through the authentication process in every `docker run ...` or whatever you are using in production).\n",
    "\n",
    "* Step 1: download `config.yaml` of [`pyannote/voice-activity-detection`](https://hf.co/pyannote/voice-activity-detection) pipeline\n",
    "\n",
    "![](assets/download-pipeline.png)\n",
    "\n",
    "* Step 2: download the `pytorch_model.bin` model\n",
    "\n",
    "![](assets/download-model.png)\n",
    "\n",
    "* Step 3: edit `config.yaml` to point to the local model\n",
    "\n",
    "```diff\n",
    "pipeline:\n",
    "  name: pyannote.audio.pipelines.VoiceActivityDetection\n",
    "  params:\n",
    "-    segmentation: pyannote/segmentation@Interspeech2021\n",
    "+    segmentation: pytorch_model.bin\n",
    "\n",
    "params:\n",
    "  min_duration_off: 0.09791355693027545\n",
    "  min_duration_on: 0.05537587440407595\n",
    "  offset: 0.4806866463041527\n",
    "  onset: 0.8104268538848918\n",
    "```\n",
    "\n",
    "* Step 4: load the pipeline"
   ]
  },
  {
   "cell_type": "code",
   "execution_count": 21,
   "metadata": {},
   "outputs": [
    {
     "data": {
      "image/png": "[encoded data removed]",
      "text/plain": [
       "<pyannote.core.annotation.Annotation at 0x288d1e940>"
      ]
     },
     "execution_count": 21,
     "metadata": {},
     "output_type": "execute_result"
    }
   ],
   "source": [
    "# look ma: no hands!\n",
    "offline_vad = Pipeline.from_pretrained(\"config.yaml\")\n",
    "offline_vad(audio_in_memory)"
   ]
  },
  {
   "cell_type": "code",
   "execution_count": 22,
   "metadata": {},
   "outputs": [],
   "source": [
    "# just checking output is the same\n",
    "assert (vad(audio_in_memory) == offline_vad(audio_in_memory))"
   ]
  }
 ],
 "metadata": {
  "kernelspec": {
   "display_name": "voice-biomarker-py311",
   "language": "python",
   "name": "voice-biomarker-py311"
  },
  "language_info": {
   "codemirror_mode": {
    "name": "ipython",
    "version": 3
   },
   "file_extension": ".py",
   "mimetype": "text/x-python",
   "name": "python",
   "nbconvert_exporter": "python",
   "pygments_lexer": "ipython3",
   "version": "3.11.6"
  },
  "vscode": {
   "interpreter": {
    "hash": "36a3a48a52702f18671693adf589423ec3f7db45d50f6ee539f1b0696bb58d43"
   }
  }
 },
 "nbformat": 4,
 "nbformat_minor": 4
}
