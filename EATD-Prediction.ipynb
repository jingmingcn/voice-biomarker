{
 "cells": [
  {
   "cell_type": "code",
   "execution_count": 20,
   "id": "22e3857d-9817-47e6-9c55-8ffe72c82b09",
   "metadata": {},
   "outputs": [
    {
     "name": "stdout",
     "output_type": "stream",
     "text": [
      "[[7 5]\n",
      " [3 6]]\n",
      "准确率（Accuracy）:0.6190476190476191\n",
      "精确率（Precision）:0.5454545454545454\n",
      "召回率（Recall）:0.6666666666666666\n",
      "F1 score: 0.6\n"
     ]
    }
   ],
   "source": [
    "from sklearn.metrics import confusion_matrix, accuracy_score, precision_score, recall_score, f1_score\n",
    "import pandas as pd\n",
    "\n",
    "df = pd.read_csv('EATD-Prediction.csv',header=0)\n",
    "\n",
    "y_true = df['label'].to_numpy()\n",
    "y_pred = df['predict'].to_numpy()\n",
    "\n",
    "print(confusion_matrix(y_true, y_pred))\n",
    "\n",
    "print('准确率（Accuracy）:{}'.format(accuracy_score(y_true, y_pred, normalize=True, sample_weight=None)))\n",
    "print('精确率（Precision）:{}'.format(precision_score(y_true, y_pred, labels=None, pos_label=1, average='binary')))\n",
    "print('召回率（Recall）:{}'.format(recall_score(y_true, y_pred, labels=None, pos_label=1,average='binary', sample_weight=None)))\n",
    "print('F1 score: {}'.format(f1_score(y_true, y_pred, labels=None, pos_label=1, average='binary', sample_weight=None)))\n",
    "\n"
   ]
  },
  {
   "cell_type": "code",
   "execution_count": null,
   "id": "ac27b242-b6bc-4b28-9b4b-a1ac7480b2eb",
   "metadata": {},
   "outputs": [],
   "source": []
  }
 ],
 "metadata": {
  "kernelspec": {
   "display_name": "voice-biomarker-py311",
   "language": "python",
   "name": "voice-biomarker-py311"
  },
  "language_info": {
   "codemirror_mode": {
    "name": "ipython",
    "version": 3
   },
   "file_extension": ".py",
   "mimetype": "text/x-python",
   "name": "python",
   "nbconvert_exporter": "python",
   "pygments_lexer": "ipython3",
   "version": "3.11.6"
  }
 },
 "nbformat": 4,
 "nbformat_minor": 5
}
