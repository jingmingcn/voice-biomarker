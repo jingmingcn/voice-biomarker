{
 "cells": [
  {
   "cell_type": "code",
   "execution_count": 2,
   "id": "e388541f-37d5-467a-9cea-cbeea4c65a20",
   "metadata": {},
   "outputs": [],
   "source": [
    "import pandas as pd"
   ]
  },
  {
   "cell_type": "code",
   "execution_count": 3,
   "id": "0347c1b7-75b7-4450-8efe-9e3229bb319c",
   "metadata": {},
   "outputs": [],
   "source": [
    "df = pd.DataFrame({'id':[1,2,3],'label':['F','M','F']})"
   ]
  },
  {
   "cell_type": "code",
   "execution_count": 7,
   "id": "05bde6b8-28c6-4eaf-bd00-23ce1cf7c610",
   "metadata": {},
   "outputs": [
    {
     "name": "stdout",
     "output_type": "stream",
     "text": [
      "0 1\n",
      "1 2\n",
      "2 3\n"
     ]
    }
   ],
   "source": [
    "for index,row in df.iterrows():\n",
    "    print(index,row['id'])\n"
   ]
  },
  {
   "cell_type": "code",
   "execution_count": 34,
   "id": "cd400605-41da-49da-89cd-e09a7ca981a6",
   "metadata": {},
   "outputs": [
    {
     "name": "stdout",
     "output_type": "stream",
     "text": [
      "----------------------------------------------------------------\n",
      "['v_98', 'v_39', 't_111', 't_20', 't_60', 't_105', 't_102', 't_85', 't_109', 't_90']\n",
      "----------------------------------------------------------------\n",
      "['v_52', 'v_4', 't_51', 'v_12', 'v_25', 'v_66', 'v_67', 't_97', 't_55', 't_54', 't_106', 'v_43']\n",
      "[['98', 1], ['39', 1], ['111', 1], ['20', 1], ['60', 1], ['105', 1], ['102', 1], ['85', 1], ['109', 1], ['90', 1], ['52', 0], ['4', 0], ['51', 0], ['12', 0], ['25', 0], ['66', 0], ['67', 0], ['97', 0], ['55', 0], ['54', 0], ['106', 0], ['43', 0]]\n"
     ]
    }
   ],
   "source": [
    "import os\n",
    "import pandas as pd\n",
    "\n",
    "DataSetPath = '/Users/jingming/DataSets/EATD-Corpus'\n",
    "# raw sds score*1.25, >= 53 is desprission, <53 is non-desprission.\n",
    "POSITIVE = 53+10\n",
    "NEGATIVE = 53-21\n",
    "\n",
    "folders = [f for f in os.listdir(DataSetPath) if os.path.isdir(f'{DataSetPath}/{f}')]\n",
    "\n",
    "p_list = []\n",
    "n_list = []\n",
    "for f in folders:\n",
    "    with open(f'{DataSetPath}/{f}/new_label.txt','r') as file:\n",
    "        s = float(file.readline())\n",
    "        if s >= POSITIVE:\n",
    "            p_list.append(f)\n",
    "        elif s <= NEGATIVE:\n",
    "            n_list.append(f)\n",
    "\n",
    "print('-'*64)\n",
    "print(p_list)\n",
    "print('-'*64)\n",
    "print(n_list)\n",
    "\n",
    "row_list = []\n",
    "for s in p_list:\n",
    "    row_list.append([s.split('_')[1],1])\n",
    "for s in n_list:\n",
    "    row_list.append([s.split('_')[1],0])\n",
    "\n",
    "print(row_list)\n",
    "\n",
    "pd.DataFrame(columns=['id','y'],data=row_list).to_csv('EATD-Top10.csv',index=False)\n"
   ]
  },
  {
   "cell_type": "code",
   "execution_count": null,
   "id": "0b790d67-c10d-4b7c-828c-4e64223c00b1",
   "metadata": {},
   "outputs": [],
   "source": []
  }
 ],
 "metadata": {
  "kernelspec": {
   "display_name": "Python [conda env:voice-biomarker-py311]",
   "language": "python",
   "name": "conda-env-voice-biomarker-py311-py"
  },
  "language_info": {
   "codemirror_mode": {
    "name": "ipython",
    "version": 3
   },
   "file_extension": ".py",
   "mimetype": "text/x-python",
   "name": "python",
   "nbconvert_exporter": "python",
   "pygments_lexer": "ipython3",
   "version": "3.11.6"
  }
 },
 "nbformat": 4,
 "nbformat_minor": 5
}
